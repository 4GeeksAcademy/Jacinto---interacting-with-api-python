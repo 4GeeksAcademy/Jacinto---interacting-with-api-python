{
    "cells": [
        {
            "cell_type": "markdown",
            "metadata": {},
            "source": [
                "# Explore here"
            ]
        },
        {
            "cell_type": "code",
            "execution_count": 2,
            "metadata": {},
            "outputs": [
                {
                    "data": {
                        "text/plain": [
                            "True"
                        ]
                    },
                    "execution_count": 2,
                    "metadata": {},
                    "output_type": "execute_result"
                }
            ],
            "source": [
                "import os\n",
                "import pandas as pd\n",
                "import matplotlib.pyplot as plt\n",
                "import seaborn as sns\n",
                "import spotipy\n",
                "from spotipy.oauth2 import SpotifyClientCredentials\n",
                "from dotenv import load_dotenv\n",
                "\n",
                "# load the .env file variables\n",
                "load_dotenv()\n",
                "\n"
            ]
        },
        {
            "cell_type": "code",
            "execution_count": 3,
            "metadata": {},
            "outputs": [],
            "source": [
                "# Spotify API credentials\n",
                "client_id = os.environ.get(\"CLIENT_ID\")\n",
                "client_secret = os.environ.get(\"CLIENT_SECRET\")\n",
                "\n",
                "#Autenticacion de Spotify\n",
                "auth_manager = SpotifyClientCredentials(client_id=client_id, client_secret=client_secret)\n",
                "spotify = spotipy.Spotify(auth_manager=auth_manager)"
            ]
        },
        {
            "cell_type": "code",
            "execution_count": null,
            "metadata": {},
            "outputs": [],
            "source": [
                "artist_id = \"1WWezGDnjvHxS6DjIq9GjT\"\n",
                "\n",
                "# Seleccion de canciones mas populares\n",
                "\n",
                "top_tracks = spotify.artist_top_tracks(artist_id)[\"tracks\"]\n",
                "track_data = [\n",
                "    {\n",
                "        \"name\": track[\"name\"],\n",
                "        \"popularity\": track[\"popularity\"],\n",
                "        \"duration_min\": track[\"duration_ms\"] / 60000  # Convertir de ms a minutos\n",
                "    }\n",
                "    for track in top_tracks\n",
                "]"
            ]
        },
        {
            "cell_type": "code",
            "execution_count": 5,
            "metadata": {},
            "outputs": [],
            "source": [
                "## Convertir a DF\n",
                "\n",
                "df = pd.DataFrame(track_data)"
            ]
        },
        {
            "cell_type": "code",
            "execution_count": null,
            "metadata": {},
            "outputs": [
                {
                    "name": "stdout",
                    "output_type": "stream",
                    "text": [
                        "                      name  popularity  duration_min\n",
                        "3   Perfecta (Bonus Track)          12      4.039600\n",
                        "9            Lo Tengo Todo          21      3.104167\n",
                        "8          Maison du Monde          22      3.421183\n",
                        "7                  El Café          23      3.586083\n",
                        "6                 Capitana          24      5.065833\n",
                        "5         Suenos Sencillos          25      3.546433\n",
                        "4  El Monstruo del Armario          26      4.964867\n",
                        "1                 Perfecta          27      4.032350\n",
                        "2      Relocos y Recuerdos          27      4.761000\n",
                        "0  ¿Qué Tal Si Me Adoptas?          43      2.883333\n"
                    ]
                }
            ],
            "source": [
                "# Ordenar por popularidad y mostrar el top 10\n",
                "df_sorted = df.sort_values(by=\"popularity\", ascending=True).head(10)\n",
                "print(df_sorted)"
            ]
        },
        {
            "cell_type": "code",
            "execution_count": 8,
            "metadata": {},
            "outputs": [
                {
                    "data": {
                        "image/png": "[encoded data removed]",
                        "text/plain": [
                            "<Figure size 640x480 with 1 Axes>"
                        ]
                    },
                    "metadata": {},
                    "output_type": "display_data"
                }
            ],
            "source": [
                "# Analizar relación entre duración y popularidad\n",
                "\n",
                "sns.scatterplot(data=df, x=\"duration_min\", y=\"popularity\")\n",
                "plt.xlabel(\"Duración (min)\")\n",
                "plt.ylabel(\"Popularidad\")\n",
                "plt.title(\"Relación entre duración y popularidad\")\n",
                "plt.show()"
            ]
        }
    ],
    "metadata": {
        "kernelspec": {
            "display_name": "Python 3",
            "language": "python",
            "name": "python3"
        },
        "language_info": {
            "codemirror_mode": {
                "name": "ipython",
                "version": 3
            },
            "file_extension": ".py",
            "mimetype": "text/x-python",
            "name": "python",
            "nbconvert_exporter": "python",
            "pygments_lexer": "ipython3",
            "version": "3.11.4"
        },
        "orig_nbformat": 4
    },
    "nbformat": 4,
    "nbformat_minor": 2
}
